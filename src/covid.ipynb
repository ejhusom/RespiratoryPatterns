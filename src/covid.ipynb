{
 "cells": [
  {
   "cell_type": "code",
   "execution_count": 209,
   "metadata": {},
   "outputs": [],
   "source": [
    "import pandas as pd\n",
    "import numpy as np\n",
    "import torch\n",
    "import torchvision\n",
    "import torchvision.transforms as transforms\n",
    "from sklearn import datasets, linear_model\n",
    "from sklearn.metrics import accuracy_score, plot_confusion_matrix\n",
    "from sklearn.model_selection import train_test_split\n",
    "from sklearn.preprocessing import MinMaxScaler\n",
    "from sklearn.metrics import classification_report,confusion_matrix\n",
    "from sklearn.neural_network import MLPClassifier\n",
    "import matplotlib.pyplot as plt"
   ]
  },
  {
   "cell_type": "code",
   "execution_count": 24,
   "metadata": {},
   "outputs": [],
   "source": [
    "train_data = pd.read_csv(\"../data/COVID_Data/Breathing_TRAIN.csv\")\n",
    "test_data = pd.read_csv(\"../data/COVID_Data/Breathing_TEST.csv\")"
   ]
  },
  {
   "cell_type": "code",
   "execution_count": 126,
   "metadata": {},
   "outputs": [],
   "source": [
    "X_train = train_data.iloc[:,1:]\n",
    "y_train = train_data.iloc[:,0]\n",
    "X_test = test_data.iloc[:,1:]\n",
    "y_test = test_data.iloc[:,0]\n",
    "\n",
    "scaler = MinMaxScaler(feature_range=(0,1))\n",
    "scaler.fit(X_train)\n",
    "X_train_scaled = scaler.transform(X_train)\n",
    "X_test_scaled = scaler.transform(X_test)"
   ]
  },
  {
   "cell_type": "code",
   "execution_count": 127,
   "metadata": {},
   "outputs": [
    {
     "name": "stdout",
     "output_type": "stream",
     "text": [
      "[[1981    2    2    0    4   11]\n",
      " [   2 1997    1    0    0    0]\n",
      " [   3    1 1974   21    0    0]\n",
      " [   0    0   18 1982    0    0]\n",
      " [   0    0    0    0 1971   29]\n",
      " [   6    0    0    0  168 1826]]\n",
      "              precision    recall  f1-score   support\n",
      "\n",
      "           1       0.99      0.99      0.99      2000\n",
      "           2       1.00      1.00      1.00      2000\n",
      "           3       0.99      0.99      0.99      1999\n",
      "           4       0.99      0.99      0.99      2000\n",
      "           5       0.92      0.99      0.95      2000\n",
      "           6       0.98      0.91      0.94      2000\n",
      "\n",
      "    accuracy                           0.98     11999\n",
      "   macro avg       0.98      0.98      0.98     11999\n",
      "weighted avg       0.98      0.98      0.98     11999\n",
      "\n"
     ]
    }
   ],
   "source": [
    "mlp = MLPClassifier(hidden_layer_sizes=(13,13,13),max_iter=500)\n",
    "mlp.fit(X_train_scaled,y_train)\n",
    "predictions = mlp.predict(X_test_scaled)\n",
    "print(confusion_matrix(y_test,predictions))\n",
    "print(classification_report(y_test,predictions))"
   ]
  },
  {
   "cell_type": "code",
   "execution_count": 219,
   "metadata": {},
   "outputs": [],
   "source": [
    "def test_model_flow(X_test, y_test):\n",
    "    \n",
    "        X_test = scaler.transform(X_test)\n",
    "\n",
    "        predictions = mlp.predict(X_test)\n",
    "        print(confusion_matrix(y_test,predictions))\n",
    "        print(classification_report(y_test,predictions))\n",
    "        \n",
    "        fig = plot_confusion_matrix(mlp, X_test, y_test,\n",
    "                                 display_labels=[\"1\",\"2\",\"3\"],\n",
    "                                 cmap=plt.cm.Blues,\n",
    "                                 normalize=\"true\")\n",
    "        plt.show()"
   ]
  },
  {
   "cell_type": "code",
   "execution_count": 220,
   "metadata": {},
   "outputs": [
    {
     "name": "stdout",
     "output_type": "stream",
     "text": [
      "Data shape: (896, 4)\n",
      "(2, 600)\n",
      "Data shape: (3318, 4)\n",
      "(3, 600)\n",
      "(4, 600)\n",
      "(5, 600)\n",
      "(6, 600)\n",
      "(7, 600)\n",
      "Data shape: (994, 4)\n",
      "(8, 600)\n",
      "Data shape: (1071, 4)\n",
      "(9, 600)\n",
      "(8, 600)\n"
     ]
    },
    {
     "data": {
      "text/plain": [
       "(8,)"
      ]
     },
     "execution_count": 220,
     "metadata": {},
     "output_type": "execute_result"
    }
   ],
   "source": [
    "data_dir = \"../data/\"\n",
    "file_list = [(data_dir + \"20200318-01.csv\", 1),\n",
    "            (data_dir + \"20200318-normal-ragnhild.csv\", 1),\n",
    "            (data_dir + \"20200318-slow-ragnhild.csv\", 2),\n",
    "            (data_dir + \"20200318-fast-ragnhild.csv\", 3)]\n",
    "\n",
    "X_test_flow = np.empty(shape=(1,600))\n",
    "y_test_flow = np.array([])\n",
    "\n",
    "for file, label in file_list:\n",
    "    data = pd.read_csv(\n",
    "            file, \n",
    "            header=None\n",
    "    )\n",
    "    data.isnull().values.any()\n",
    "    print(f\"Data shape: {data.shape}\")\n",
    "    \n",
    "    for i in range(data.shape[0] // 600):\n",
    "        test_data = data.iloc[i*600:(i+1)*600,:].transpose()\n",
    "        test_data = np.array(test_data.iloc[2,:],)\n",
    "        test_data = test_data.reshape(-1, 1).transpose()\n",
    "        y_test_flow = np.append(y_test_flow, np.array([label,]))\n",
    "        X_test_flow = np.append(X_test_flow, test_data, axis=0)\n",
    "        print(X_test_flow.shape)\n",
    "        \n",
    "X_test_flow = X_test_flow[1:,:]\n",
    "print(X_test_flow.shape)\n",
    "y_test_flow.shape"
   ]
  },
  {
   "cell_type": "code",
   "execution_count": 221,
   "metadata": {},
   "outputs": [
    {
     "name": "stdout",
     "output_type": "stream",
     "text": [
      "[[2 0 4]\n",
      " [1 0 0]\n",
      " [0 0 1]]\n",
      "              precision    recall  f1-score   support\n",
      "\n",
      "         1.0       0.67      0.33      0.44         6\n",
      "         2.0       0.00      0.00      0.00         1\n",
      "         3.0       0.20      1.00      0.33         1\n",
      "\n",
      "    accuracy                           0.38         8\n",
      "   macro avg       0.29      0.44      0.26         8\n",
      "weighted avg       0.53      0.38      0.38         8\n",
      "\n"
     ]
    },
    {
     "name": "stderr",
     "output_type": "stream",
     "text": [
      "/Users/erikjohanneshusom/Library/Python/3.7/lib/python/site-packages/sklearn/metrics/_classification.py:1272: UndefinedMetricWarning: Precision and F-score are ill-defined and being set to 0.0 in labels with no predicted samples. Use `zero_division` parameter to control this behavior.\n",
      "  _warn_prf(average, modifier, msg_start, len(result))\n"
     ]
    },
    {
     "data": {
      "image/png": "[encoded data removed]",
      "text/plain": [
       "<Figure size 432x288 with 2 Axes>"
      ]
     },
     "metadata": {
      "needs_background": "light"
     },
     "output_type": "display_data"
    }
   ],
   "source": [
    "test_model_flow(X_test_flow, y_test_flow)"
   ]
  },
  {
   "cell_type": "code",
   "execution_count": null,
   "metadata": {},
   "outputs": [],
   "source": []
  },
  {
   "cell_type": "code",
   "execution_count": null,
   "metadata": {},
   "outputs": [],
   "source": []
  }
 ],
 "metadata": {
  "kernelspec": {
   "display_name": "Python 3",
   "language": "python",
   "name": "python3"
  },
  "language_info": {
   "codemirror_mode": {
    "name": "ipython",
    "version": 3
   },
   "file_extension": ".py",
   "mimetype": "text/x-python",
   "name": "python",
   "nbconvert_exporter": "python",
   "pygments_lexer": "ipython3",
   "version": "3.7.6"
  }
 },
 "nbformat": 4,
 "nbformat_minor": 4
}
